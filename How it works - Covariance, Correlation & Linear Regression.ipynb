{
 "cells": [
  {
   "cell_type": "markdown",
   "metadata": {},
   "source": [
    "## Co-variance"
   ]
  },
  {
   "cell_type": "code",
   "execution_count": 1,
   "metadata": {},
   "outputs": [],
   "source": [
    "import numpy as np\n",
    "import matplotlib.pyplot as plt\n",
    "%matplotlib inline"
   ]
  },
  {
   "cell_type": "markdown",
   "metadata": {},
   "source": [
    "<b>wikiHow</b> provides a very easy to understand example of how to calculate co-variance<br>\n",
    "https://www.wikihow.com/Calculate-Covariance <br>\n",
    "Using their sample data, below we see how to view the data, and then find the covariance using np.cov():"
   ]
  },
  {
   "cell_type": "code",
   "execution_count": 2,
   "metadata": {},
   "outputs": [
    {
     "data": {
      "text/plain": [
       "<matplotlib.collections.PathCollection at 0x114697cc0>"
      ]
     },
     "execution_count": 2,
     "metadata": {},
     "output_type": "execute_result"
    },
    {
     "data": {
      "image/png": "[encoded data removed]",
      "text/plain": [
       "<matplotlib.figure.Figure at 0x10ec7c550>"
      ]
     },
     "metadata": {},
     "output_type": "display_data"
    }
   ],
   "source": [
    "x = [1, 3, 2, 5, 8, 7, 12, 2, 4]\n",
    "y = [8, 6, 9, 4, 3, 3, 2, 7, 7]\n",
    "plt.scatter(x, y)"
   ]
  },
  {
   "cell_type": "markdown",
   "metadata": {},
   "source": [
    "Note that as per https://machinelearningmastery.com/introduction-to-expected-value-variance-and-covariance/ np.cov() returns the correlation matrix, but the key value we are looking for is the <b>[0,1]</b> element, i.e. -8.07"
   ]
  },
  {
   "cell_type": "code",
   "execution_count": 3,
   "metadata": {},
   "outputs": [
    {
     "data": {
      "text/plain": [
       "array([[ 12.61111111,  -8.06944444],\n",
       "       [ -8.06944444,   6.27777778]])"
      ]
     },
     "execution_count": 3,
     "metadata": {},
     "output_type": "execute_result"
    }
   ],
   "source": [
    "np.cov(x, y)"
   ]
  },
  {
   "cell_type": "markdown",
   "metadata": {},
   "source": [
    "Let's do another example which is fairly typical: the relationship between <b>heights and weights</b>:"
   ]
  },
  {
   "cell_type": "code",
   "execution_count": 14,
   "metadata": {},
   "outputs": [],
   "source": [
    "# First let's get a normally distributed sample of people heights\n",
    "heights = np.random.normal(1.65, 0.10, 100)"
   ]
  },
  {
   "cell_type": "code",
   "execution_count": 15,
   "metadata": {},
   "outputs": [],
   "source": [
    "# And a normally distributed sample of people weights\n",
    "weights = np.random.normal(60, 8, 100)"
   ]
  },
  {
   "cell_type": "code",
   "execution_count": 16,
   "metadata": {},
   "outputs": [
    {
     "data": {
      "text/plain": [
       "<matplotlib.collections.PathCollection at 0x1148d3048>"
      ]
     },
     "execution_count": 16,
     "metadata": {},
     "output_type": "execute_result"
    },
    {
     "data": {
      "image/png": "[encoded data removed]",
      "text/plain": [
       "<matplotlib.figure.Figure at 0x1147cf710>"
      ]
     },
     "metadata": {},
     "output_type": "display_data"
    }
   ],
   "source": [
    "# Because we have not setup any kind of relationship between the 2 we can quickly see there is no real \n",
    "# relationship between heights and weights if we visualize the data:\n",
    "plt.scatter(heights, weights)"
   ]
  },
  {
   "cell_type": "code",
   "execution_count": 17,
   "metadata": {},
   "outputs": [],
   "source": [
    "# But we can change that by sorting the data:\n",
    "heights.sort()\n",
    "weights.sort()"
   ]
  },
  {
   "cell_type": "code",
   "execution_count": 18,
   "metadata": {},
   "outputs": [
    {
     "data": {
      "text/plain": [
       "<matplotlib.collections.PathCollection at 0x1149e1080>"
      ]
     },
     "execution_count": 18,
     "metadata": {},
     "output_type": "execute_result"
    },
    {
     "data": {
      "image/png": "[encoded data removed]",
      "text/plain": [
       "<matplotlib.figure.Figure at 0x1148b5f60>"
      ]
     },
     "metadata": {},
     "output_type": "display_data"
    }
   ],
   "source": [
    "# Having forced a relationship we can clearly see this in the data\n",
    "plt.scatter(heights, weights)"
   ]
  },
  {
   "cell_type": "code",
   "execution_count": 20,
   "metadata": {},
   "outputs": [
    {
     "data": {
      "text/plain": [
       "array([[  7.87464896e-03,   7.10461347e-01],\n",
       "       [  7.10461347e-01,   6.58789965e+01]])"
      ]
     },
     "execution_count": 20,
     "metadata": {},
     "output_type": "execute_result"
    }
   ],
   "source": [
    "# Now let's find the co-variance...\n",
    "np.cov(heights, weights)"
   ]
  },
  {
   "cell_type": "code",
   "execution_count": 21,
   "metadata": {
    "scrolled": true
   },
   "outputs": [
    {
     "name": "stdout",
     "output_type": "stream",
     "text": [
      "0.710461347301\n"
     ]
    }
   ],
   "source": [
    "# We can also find this answer the long way based on the formula:\n",
    "# ∑(xi - xavg)(yi - yavg) / n - 1\n",
    "\n",
    "mean_height = np.mean(heights)\n",
    "mean_weight = np.mean(weights)\n",
    "heights_array = np.array([hi - mean_height for hi in heights])\n",
    "weights_array = np.array([wi - mean_weight for wi in weights])\n",
    "numerator = heights_array @ weights_array\n",
    "denominator = len(heights) - 1\n",
    "covariance = numerator / denominator\n",
    "print(covariance)"
   ]
  },
  {
   "cell_type": "markdown",
   "metadata": {},
   "source": [
    "Interpreting the result:<br>\n",
    "- <b>Is it positive or negative?</b> If it's positive then as one variable increases so does the other (e.g. heights and weights). If it's negative then as one variable increases the other decreases (e.g. practice hours and math test scores)<br>\n",
    "- <b>How big is the number in relation to the data?</b> If it's quite a big number then the relationship is quite a strong one. If it's quite a small number in relation to the data, say 0.00something then the relationship is probably negligible.<br>\n",
    "- By looking at the spread of the data above we can <b>check this understanding</b>...<p>\n",
    "But of course the difficulty here is \"what is a big number?\" since we have 2 different units of measure (meters and kilograms)!<br>"
   ]
  },
  {
   "cell_type": "markdown",
   "metadata": {},
   "source": [
    "## Correlation\n",
    "Correlation will normalize the different units of measure to give a standardized value between -1 (perfect negative correlation) and 1 (perfect positive correlation) with 0 representing absolutely no correlation whatsoever."
   ]
  },
  {
   "cell_type": "code",
   "execution_count": 22,
   "metadata": {},
   "outputs": [
    {
     "data": {
      "text/plain": [
       "array([[ 1.        ,  0.98639614],\n",
       "       [ 0.98639614,  1.        ]])"
      ]
     },
     "execution_count": 22,
     "metadata": {},
     "output_type": "execute_result"
    }
   ],
   "source": [
    "# Finding the correlation co-efficient is easy enough with numpy!\n",
    "np.corrcoef(heights, weights)"
   ]
  },
  {
   "cell_type": "code",
   "execution_count": 23,
   "metadata": {},
   "outputs": [
    {
     "name": "stdout",
     "output_type": "stream",
     "text": [
      "0.986396144201\n"
     ]
    }
   ],
   "source": [
    "# We can also find this answer the long way by building on the values found for co-variance above. The formula is...\n",
    "# ∑(xi - xavg).(yi - yavg) / sqrt(x.x * y.y)\n",
    "heights_sq = heights_array @ heights_array\n",
    "weights_sq = weights_array @ weights_array\n",
    "correlation = numerator / np.sqrt(heights_sq * weights_sq)\n",
    "print(correlation)"
   ]
  },
  {
   "cell_type": "markdown",
   "metadata": {},
   "source": [
    "So we DO indeed have a very high positive correlation, as could be seen in the plot!"
   ]
  },
  {
   "cell_type": "markdown",
   "metadata": {},
   "source": [
    "## Linear regression"
   ]
  },
  {
   "cell_type": "markdown",
   "metadata": {},
   "source": [
    "So now that we have established that there is a high correlation between heights and weights, we would like to find the line that best fits this relationship. Why? because then given the height of any other random future person we could predict their probable weight, and vice-versa."
   ]
  },
  {
   "cell_type": "markdown",
   "metadata": {},
   "source": [
    "Mathsisfun provides a very easy to understand lesson on how least squares regression is calculated:\n",
    "https://www.mathsisfun.com/data/least-squares-regression.html. Essentially, given that the equation of a line is expressed as y = mx + b, we are trying to solve for the constants m and b so that we get the line that represents the best fit for our data (the one that minimizes the squared differences from the data points to the line in each case)."
   ]
  },
  {
   "cell_type": "code",
   "execution_count": 36,
   "metadata": {},
   "outputs": [
    {
     "name": "stdout",
     "output_type": "stream",
     "text": [
      "90.2213356483 -88.82225037 0.986396144201\n"
     ]
    }
   ],
   "source": [
    "# We'll need the stats module from scipy\n",
    "from scipy import stats\n",
    "\n",
    "# Using the linregress() function returns 5 values, which we name here for convenience:\n",
    "slope, intercept, r_value, p_value, std_err = stats.linregress(heights, weights)\n",
    "\n",
    "# Slope = m from our equation, Intercept = b, r_value = our correlation co-efficient\n",
    "print(slope, intercept, r_value)"
   ]
  },
  {
   "cell_type": "code",
   "execution_count": 37,
   "metadata": {},
   "outputs": [
    {
     "data": {
      "text/plain": [
       "0.9729773532953242"
      ]
     },
     "execution_count": 37,
     "metadata": {},
     "output_type": "execute_result"
    }
   ],
   "source": [
    "# By squaring r_value we get the co-efficient of determination\n",
    "r_value ** 2"
   ]
  },
  {
   "cell_type": "markdown",
   "metadata": {},
   "source": [
    "A quick note here - what is the difference between the co-efficient of correlation, and the co-efficient of determination?<br>\n",
    "It is very nicely explained here: http://blog.uwgb.edu/bansalg/statistics-data-analytics/linear-regression/what-is-the-difference-between-coefficient-of-determination-and-coefficient-of-correlation/ but essentially:<br>\n",
    "- The co-efficient of correlation is a number between -1 (perfect negative correlation) and 1 (perfect positive correlation) which is indicative of how the 2 sets of values are correlated<br>\n",
    "- The co-efficient of determination is a number between 0 and 1 (of course because it has been squared!) and is indicative of how good a fit the line is to the original data - the higher the better"
   ]
  },
  {
   "cell_type": "code",
   "execution_count": 34,
   "metadata": {},
   "outputs": [
    {
     "data": {
      "image/png": "[encoded data removed]",
      "text/plain": [
       "<matplotlib.figure.Figure at 0x115c6e470>"
      ]
     },
     "metadata": {},
     "output_type": "display_data"
    }
   ],
   "source": [
    "# Here we create a little function which takes heights as inputs in order to predict corresponding weights values:\n",
    "def get_weights(heights):\n",
    "    return slope * heights + intercept\n",
    "\n",
    "plt.scatter(heights, weights)\n",
    "plt.plot(heights, get_weights(heights), c='r')\n",
    "plt.show()"
   ]
  }
 ],
 "metadata": {
  "kernelspec": {
   "display_name": "Python 3",
   "language": "python",
   "name": "python3"
  },
  "language_info": {
   "codemirror_mode": {
    "name": "ipython",
    "version": 3
   },
   "file_extension": ".py",
   "mimetype": "text/x-python",
   "name": "python",
   "nbconvert_exporter": "python",
   "pygments_lexer": "ipython3",
   "version": "3.6.3"
  }
 },
 "nbformat": 4,
 "nbformat_minor": 2
}
