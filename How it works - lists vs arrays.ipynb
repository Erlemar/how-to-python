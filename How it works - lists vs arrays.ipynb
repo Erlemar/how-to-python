{
 "cells": [
  {
   "cell_type": "code",
   "execution_count": 1,
   "metadata": {},
   "outputs": [],
   "source": [
    "import numpy as np"
   ]
  },
  {
   "cell_type": "code",
   "execution_count": 2,
   "metadata": {},
   "outputs": [
    {
     "name": "stdout",
     "output_type": "stream",
     "text": [
      "[12, 24, 65, 19, 242]\n"
     ]
    }
   ],
   "source": [
    "List1 = [12, 24, 65 , 19, 242]\n",
    "print(List1)"
   ]
  },
  {
   "cell_type": "code",
   "execution_count": 3,
   "metadata": {},
   "outputs": [
    {
     "name": "stdout",
     "output_type": "stream",
     "text": [
      "[12, 24, 65, 19]\n"
     ]
    }
   ],
   "source": [
    "List2 = List1[0:4]\n",
    "print(List2)"
   ]
  },
  {
   "cell_type": "code",
   "execution_count": 4,
   "metadata": {},
   "outputs": [],
   "source": [
    "List2[0] = 15"
   ]
  },
  {
   "cell_type": "code",
   "execution_count": 5,
   "metadata": {},
   "outputs": [
    {
     "name": "stdout",
     "output_type": "stream",
     "text": [
      "List1 contains:  [12, 24, 65, 19, 242]\n",
      "List2 contains:  [15, 24, 65, 19]\n"
     ]
    }
   ],
   "source": [
    "# Notice that while we changed a value in List2, the value in List2 remains the same\n",
    "# The 2 lists are independent of one another\n",
    "print(\"List1 contains: \", List1)\n",
    "print(\"List2 contains: \", List2)"
   ]
  },
  {
   "cell_type": "code",
   "execution_count": 6,
   "metadata": {},
   "outputs": [
    {
     "name": "stdout",
     "output_type": "stream",
     "text": [
      "[ 12  24  65  19 242]\n"
     ]
    }
   ],
   "source": [
    "Array1 = np.array(List1)\n",
    "print(Array1)"
   ]
  },
  {
   "cell_type": "code",
   "execution_count": 7,
   "metadata": {},
   "outputs": [
    {
     "name": "stdout",
     "output_type": "stream",
     "text": [
      "[12 24 65 19]\n"
     ]
    }
   ],
   "source": [
    "Array2 = Array1[0:4]\n",
    "print(Array2)"
   ]
  },
  {
   "cell_type": "code",
   "execution_count": 8,
   "metadata": {},
   "outputs": [],
   "source": [
    "Array2[0] = 15"
   ]
  },
  {
   "cell_type": "code",
   "execution_count": 9,
   "metadata": {},
   "outputs": [
    {
     "name": "stdout",
     "output_type": "stream",
     "text": [
      "Array1 contains:  [ 15  24  65  19 242]\n",
      "Array2 contains:  [15 24 65 19]\n"
     ]
    }
   ],
   "source": [
    "# Notice that because Array2 came from Array1, they are joined at the hip, so when you change\n",
    "# the value in one, the value in the other immediately changes too!\n",
    "print(\"Array1 contains: \", Array1)\n",
    "print(\"Array2 contains: \", Array2)"
   ]
  },
  {
   "cell_type": "code",
   "execution_count": 10,
   "metadata": {},
   "outputs": [
    {
     "name": "stdout",
     "output_type": "stream",
     "text": [
      "[ 12  24  65  19 242]\n"
     ]
    }
   ],
   "source": [
    "Array1 = np.array(List1)\n",
    "print(Array1)"
   ]
  },
  {
   "cell_type": "code",
   "execution_count": 11,
   "metadata": {},
   "outputs": [
    {
     "name": "stdout",
     "output_type": "stream",
     "text": [
      "[12 24 65 19]\n"
     ]
    }
   ],
   "source": [
    "# If this is not the desired effect use .copy() to make an independent copy\n",
    "Array2 = Array1[0:4].copy()\n",
    "print(Array2)"
   ]
  },
  {
   "cell_type": "code",
   "execution_count": 12,
   "metadata": {},
   "outputs": [],
   "source": [
    "Array2[0] = 15"
   ]
  },
  {
   "cell_type": "code",
   "execution_count": 13,
   "metadata": {},
   "outputs": [
    {
     "name": "stdout",
     "output_type": "stream",
     "text": [
      "Array1 contains:  [ 12  24  65  19 242]\n",
      "Array2 contains:  [15 24 65 19]\n"
     ]
    }
   ],
   "source": [
    "# Notice now that although we changed a value in Array2, Array1 has remained unaffected\n",
    "print(\"Array1 contains: \", Array1)\n",
    "print(\"Array2 contains: \", Array2)"
   ]
  },
  {
   "cell_type": "code",
   "execution_count": 14,
   "metadata": {},
   "outputs": [],
   "source": [
    "List1 = np.array([1, 2, 3, 4, 5, 6, 7, 8, 9])"
   ]
  },
  {
   "cell_type": "code",
   "execution_count": 15,
   "metadata": {},
   "outputs": [
    {
     "name": "stdout",
     "output_type": "stream",
     "text": [
      "[[1 2 3]\n",
      " [4 5 6]\n",
      " [7 8 9]]\n",
      "<class 'numpy.ndarray'>\n"
     ]
    }
   ],
   "source": [
    "List_Table = np.reshape(List1, (3,3))\n",
    "print(List_Table)\n",
    "print(type(List_Table))"
   ]
  },
  {
   "cell_type": "code",
   "execution_count": 16,
   "metadata": {},
   "outputs": [
    {
     "name": "stdout",
     "output_type": "stream",
     "text": [
      "3\n",
      "[2 5 8]\n"
     ]
    }
   ],
   "source": [
    "print(List_Table[0,2])\n",
    "print(List_Table[:,1])"
   ]
  },
  {
   "cell_type": "code",
   "execution_count": 17,
   "metadata": {},
   "outputs": [],
   "source": [
    "#Object oriented programming"
   ]
  },
  {
   "cell_type": "code",
   "execution_count": 18,
   "metadata": {},
   "outputs": [
    {
     "data": {
      "text/plain": [
       "array([[1, 2, 3],\n",
       "       [4, 5, 6],\n",
       "       [7, 8, 9]])"
      ]
     },
     "execution_count": 18,
     "metadata": {},
     "output_type": "execute_result"
    }
   ],
   "source": [
    "List1.reshape(3,3)"
   ]
  },
  {
   "cell_type": "code",
   "execution_count": 19,
   "metadata": {},
   "outputs": [
    {
     "name": "stdout",
     "output_type": "stream",
     "text": [
      "[[1 2 3]\n",
      " [4 5 6]\n",
      " [7 8 9]]\n"
     ]
    }
   ],
   "source": [
    "print(List1.reshape(3,3))"
   ]
  },
  {
   "cell_type": "code",
   "execution_count": 20,
   "metadata": {},
   "outputs": [],
   "source": [
    "#We played Scrabble in Jan, Feb & Mar, here are the scores:"
   ]
  },
  {
   "cell_type": "code",
   "execution_count": 21,
   "metadata": {},
   "outputs": [],
   "source": [
    "Lisa_Mitford = [108, 215, 99]\n",
    "Barry_Benjamin = [260, 212, 220]\n",
    "Geoff_Louw = [176, 98, 232]\n",
    "Denise_Louw = [102, 89, 276]"
   ]
  },
  {
   "cell_type": "code",
   "execution_count": 22,
   "metadata": {},
   "outputs": [],
   "source": [
    "#Insert this lot into an array"
   ]
  },
  {
   "cell_type": "code",
   "execution_count": 23,
   "metadata": {},
   "outputs": [
    {
     "name": "stdout",
     "output_type": "stream",
     "text": [
      "[[108 215  99]\n",
      " [260 212 220]\n",
      " [176  98 232]\n",
      " [102  89 276]]\n"
     ]
    }
   ],
   "source": [
    "Scores = np.array([Lisa_Mitford, Barry_Benjamin, Geoff_Louw, Denise_Louw])\n",
    "print(Scores)"
   ]
  },
  {
   "cell_type": "code",
   "execution_count": 24,
   "metadata": {},
   "outputs": [],
   "source": [
    "#Create a player dictionary"
   ]
  },
  {
   "cell_type": "code",
   "execution_count": 25,
   "metadata": {},
   "outputs": [],
   "source": [
    "PDict = {'Lisa_Mitford':0, 'Barry_Benjamin':1, 'Geoff_Louw':2, 'Denise_Louw':3}"
   ]
  },
  {
   "cell_type": "code",
   "execution_count": 26,
   "metadata": {},
   "outputs": [],
   "source": [
    "#Create a months dictionary\n",
    "MDict = {'Jan':0, 'Feb':1, 'Mar':2}"
   ]
  },
  {
   "cell_type": "code",
   "execution_count": 27,
   "metadata": {},
   "outputs": [],
   "source": [
    "#To retrieve an individual item from the matrix"
   ]
  },
  {
   "cell_type": "code",
   "execution_count": 28,
   "metadata": {},
   "outputs": [
    {
     "name": "stdout",
     "output_type": "stream",
     "text": [
      "232\n"
     ]
    }
   ],
   "source": [
    "print(Scores[PDict['Geoff_Louw'], MDict['Mar']])"
   ]
  },
  {
   "cell_type": "code",
   "execution_count": 29,
   "metadata": {},
   "outputs": [],
   "source": [
    "#To retrieve a whole row from the matrix"
   ]
  },
  {
   "cell_type": "code",
   "execution_count": 30,
   "metadata": {},
   "outputs": [
    {
     "name": "stdout",
     "output_type": "stream",
     "text": [
      "[176  98 232]\n"
     ]
    }
   ],
   "source": [
    "print(Scores[PDict['Geoff_Louw']])"
   ]
  },
  {
   "cell_type": "code",
   "execution_count": 31,
   "metadata": {},
   "outputs": [
    {
     "name": "stdout",
     "output_type": "stream",
     "text": [
      "[ 99 220 232 276]\n"
     ]
    }
   ],
   "source": [
    "#Or to retrieve a whole column from the matrix\n",
    "print(Scores[:,MDict['Mar']])"
   ]
  }
 ],
 "metadata": {
  "kernelspec": {
   "display_name": "Python 3",
   "language": "python",
   "name": "python3"
  },
  "language_info": {
   "codemirror_mode": {
    "name": "ipython",
    "version": 3
   },
   "file_extension": ".py",
   "mimetype": "text/x-python",
   "name": "python",
   "nbconvert_exporter": "python",
   "pygments_lexer": "ipython3",
   "version": "3.6.5"
  }
 },
 "nbformat": 4,
 "nbformat_minor": 2
}
