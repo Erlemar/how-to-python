{
 "cells": [
  {
   "cell_type": "markdown",
   "metadata": {},
   "source": [
    "## Finding overlapping user bases\n",
    "An example use case is this: you have a list of customers who have bought the various products that you sell. You want to know where the overlaps are, for example:\n",
    "- How many customers who bought the Blue Widget also bought the Green Widget?\n",
    "- Or what percentage of customers who bought the Blue Widget also bought the Green Widget?\n",
    "- ... Or vice versa?\n",
    "\n",
    "You have n numbers of products and a gazillion customers that bought them. Really this is just a bit of a data manipulation problem, followed by a nice Seaborn heatmap visualization. Let's go...!"
   ]
  },
  {
   "cell_type": "markdown",
   "metadata": {},
   "source": [
    "### Imports"
   ]
  },
  {
   "cell_type": "code",
   "execution_count": 1,
   "metadata": {},
   "outputs": [],
   "source": [
    "import numpy as np\n",
    "import pandas as pd\n",
    "import seaborn as sns\n",
    "from matplotlib import pyplot as plt\n",
    "%matplotlib inline"
   ]
  },
  {
   "cell_type": "code",
   "execution_count": 2,
   "metadata": {},
   "outputs": [
    {
     "data": {
      "text/html": [
       "<div>\n",
       "<style scoped>\n",
       "    .dataframe tbody tr th:only-of-type {\n",
       "        vertical-align: middle;\n",
       "    }\n",
       "\n",
       "    .dataframe tbody tr th {\n",
       "        vertical-align: top;\n",
       "    }\n",
       "\n",
       "    .dataframe thead th {\n",
       "        text-align: right;\n",
       "    }\n",
       "</style>\n",
       "<table border=\"1\" class=\"dataframe\">\n",
       "  <thead>\n",
       "    <tr style=\"text-align: right;\">\n",
       "      <th></th>\n",
       "      <th>Product</th>\n",
       "      <th>Customer</th>\n",
       "    </tr>\n",
       "  </thead>\n",
       "  <tbody>\n",
       "    <tr>\n",
       "      <th>0</th>\n",
       "      <td>Blue widget</td>\n",
       "      <td>Customer 1</td>\n",
       "    </tr>\n",
       "    <tr>\n",
       "      <th>1</th>\n",
       "      <td>Blue widget</td>\n",
       "      <td>Customer 11</td>\n",
       "    </tr>\n",
       "    <tr>\n",
       "      <th>2</th>\n",
       "      <td>Blue widget</td>\n",
       "      <td>Customer 12</td>\n",
       "    </tr>\n",
       "    <tr>\n",
       "      <th>3</th>\n",
       "      <td>Blue widget</td>\n",
       "      <td>Customer 13</td>\n",
       "    </tr>\n",
       "    <tr>\n",
       "      <th>4</th>\n",
       "      <td>Blue widget</td>\n",
       "      <td>Customer 2</td>\n",
       "    </tr>\n",
       "  </tbody>\n",
       "</table>\n",
       "</div>"
      ],
      "text/plain": [
       "       Product     Customer\n",
       "0  Blue widget   Customer 1\n",
       "1  Blue widget  Customer 11\n",
       "2  Blue widget  Customer 12\n",
       "3  Blue widget  Customer 13\n",
       "4  Blue widget   Customer 2"
      ]
     },
     "execution_count": 2,
     "metadata": {},
     "output_type": "execute_result"
    }
   ],
   "source": [
    "# Import our data which consists of a list of products and which customers bought them\n",
    "df = pd.read_excel('customer_product_list.xlsx')\n",
    "df.head()"
   ]
  },
  {
   "cell_type": "code",
   "execution_count": 3,
   "metadata": {},
   "outputs": [
    {
     "name": "stdout",
     "output_type": "stream",
     "text": [
      "Number of records: 56\n"
     ]
    }
   ],
   "source": [
    "# How many records do we have?\n",
    "print(f'''Number of records: {len(df)}''')"
   ]
  },
  {
   "cell_type": "code",
   "execution_count": 4,
   "metadata": {},
   "outputs": [
    {
     "name": "stdout",
     "output_type": "stream",
     "text": [
      "Number of products: 4\n"
     ]
    }
   ],
   "source": [
    "# How many products do we have?\n",
    "print(f'''Number of products: {df['Product'].nunique()}''')"
   ]
  },
  {
   "cell_type": "code",
   "execution_count": 5,
   "metadata": {},
   "outputs": [
    {
     "name": "stdout",
     "output_type": "stream",
     "text": [
      "Number of customers: 30\n"
     ]
    }
   ],
   "source": [
    "# How many customers do we have?\n",
    "print(f'''Number of customers: {df['Customer'].nunique()}''')"
   ]
  },
  {
   "cell_type": "markdown",
   "metadata": {},
   "source": [
    "### Data manipulation\n",
    "Given that we have 4 products, we want to end up with a 4 x 4 matrix that will show us the extent of overlap between the products and the customers that purchased them."
   ]
  },
  {
   "cell_type": "markdown",
   "metadata": {},
   "source": [
    "#### Step 1\n",
    "Change our data from this format:\n",
    "<img src = 'https://shotlefttodatascience.files.wordpress.com/2020/05/screenshot-2020-05-19-at-11.57.14.png' width = 250>\n",
    "... to this format (each row represents a unique customer and the products they have bought):   \n",
    "<img src = 'https://shotlefttodatascience.files.wordpress.com/2020/05/screenshot-2020-05-19-at-11.58.41.png' width = 450>"
   ]
  },
  {
   "cell_type": "code",
   "execution_count": 6,
   "metadata": {},
   "outputs": [
    {
     "data": {
      "text/html": [
       "<div>\n",
       "<style scoped>\n",
       "    .dataframe tbody tr th:only-of-type {\n",
       "        vertical-align: middle;\n",
       "    }\n",
       "\n",
       "    .dataframe tbody tr th {\n",
       "        vertical-align: top;\n",
       "    }\n",
       "\n",
       "    .dataframe thead th {\n",
       "        text-align: right;\n",
       "    }\n",
       "</style>\n",
       "<table border=\"1\" class=\"dataframe\">\n",
       "  <thead>\n",
       "    <tr style=\"text-align: right;\">\n",
       "      <th></th>\n",
       "      <th>Product</th>\n",
       "      <th>Customer</th>\n",
       "      <th>ProductNum</th>\n",
       "      <th>CustomerNum</th>\n",
       "    </tr>\n",
       "  </thead>\n",
       "  <tbody>\n",
       "    <tr>\n",
       "      <th>0</th>\n",
       "      <td>Blue widget</td>\n",
       "      <td>Customer 1</td>\n",
       "      <td>0</td>\n",
       "      <td>29</td>\n",
       "    </tr>\n",
       "    <tr>\n",
       "      <th>1</th>\n",
       "      <td>Blue widget</td>\n",
       "      <td>Customer 11</td>\n",
       "      <td>0</td>\n",
       "      <td>12</td>\n",
       "    </tr>\n",
       "    <tr>\n",
       "      <th>2</th>\n",
       "      <td>Blue widget</td>\n",
       "      <td>Customer 12</td>\n",
       "      <td>0</td>\n",
       "      <td>20</td>\n",
       "    </tr>\n",
       "    <tr>\n",
       "      <th>3</th>\n",
       "      <td>Blue widget</td>\n",
       "      <td>Customer 13</td>\n",
       "      <td>0</td>\n",
       "      <td>28</td>\n",
       "    </tr>\n",
       "    <tr>\n",
       "      <th>4</th>\n",
       "      <td>Blue widget</td>\n",
       "      <td>Customer 2</td>\n",
       "      <td>0</td>\n",
       "      <td>7</td>\n",
       "    </tr>\n",
       "    <tr>\n",
       "      <th>5</th>\n",
       "      <td>Blue widget</td>\n",
       "      <td>Customer 3</td>\n",
       "      <td>0</td>\n",
       "      <td>24</td>\n",
       "    </tr>\n",
       "    <tr>\n",
       "      <th>6</th>\n",
       "      <td>Blue widget</td>\n",
       "      <td>Customer 4</td>\n",
       "      <td>0</td>\n",
       "      <td>22</td>\n",
       "    </tr>\n",
       "    <tr>\n",
       "      <th>7</th>\n",
       "      <td>Blue widget</td>\n",
       "      <td>Customer 5</td>\n",
       "      <td>0</td>\n",
       "      <td>15</td>\n",
       "    </tr>\n",
       "    <tr>\n",
       "      <th>8</th>\n",
       "      <td>Blue widget</td>\n",
       "      <td>Customer 6</td>\n",
       "      <td>0</td>\n",
       "      <td>23</td>\n",
       "    </tr>\n",
       "    <tr>\n",
       "      <th>9</th>\n",
       "      <td>Blue widget</td>\n",
       "      <td>Customer 7</td>\n",
       "      <td>0</td>\n",
       "      <td>5</td>\n",
       "    </tr>\n",
       "  </tbody>\n",
       "</table>\n",
       "</div>"
      ],
      "text/plain": [
       "       Product     Customer  ProductNum  CustomerNum\n",
       "0  Blue widget   Customer 1           0           29\n",
       "1  Blue widget  Customer 11           0           12\n",
       "2  Blue widget  Customer 12           0           20\n",
       "3  Blue widget  Customer 13           0           28\n",
       "4  Blue widget   Customer 2           0            7\n",
       "5  Blue widget   Customer 3           0           24\n",
       "6  Blue widget   Customer 4           0           22\n",
       "7  Blue widget   Customer 5           0           15\n",
       "8  Blue widget   Customer 6           0           23\n",
       "9  Blue widget   Customer 7           0            5"
      ]
     },
     "execution_count": 6,
     "metadata": {},
     "output_type": "execute_result"
    }
   ],
   "source": [
    "# Get a unique list of products and customers\n",
    "list_product = list(set(df['Product']))\n",
    "list_customer = list(set(df['Customer']))\n",
    "\n",
    "# Let's sort the product list, because later when we visualize our data it will be\n",
    "# handy if the products are sorted alphabetically (especially when you have more than 4!)\n",
    "list_product.sort()\n",
    "\n",
    "# Put these lists into series format which we can use to match back to the main df.\n",
    "# Essentially here we are getting a unique index for each product and customer\n",
    "product_match = pd.Series(list(range(len(list_product))), list_product)\n",
    "customer_match = pd.Series(list(range(len(list_customer))), list_customer)\n",
    "df['ProductNum'] = df['Product'].map(product_match)\n",
    "df['CustomerNum'] = df['Customer'].map(customer_match)\n",
    "\n",
    "# The end result is as follows\n",
    "df.head(10)"
   ]
  },
  {
   "cell_type": "code",
   "execution_count": 7,
   "metadata": {},
   "outputs": [],
   "source": [
    "# Processing things in dataframes can take a while once you have 1 million + records,\n",
    "# so we're going to put our newly created indices into lists\n",
    "product_indices = list(df['ProductNum'])\n",
    "customer_indices = list(df['CustomerNum'])"
   ]
  },
  {
   "cell_type": "code",
   "execution_count": 8,
   "metadata": {},
   "outputs": [
    {
     "data": {
      "text/plain": [
       "(30, 4)"
      ]
     },
     "execution_count": 8,
     "metadata": {},
     "output_type": "execute_result"
    }
   ],
   "source": [
    "# Here we are creating an empty matrix where the rows represent our unique customers\n",
    "# and the columns represent our unique products\n",
    "purchases_matrix = np.zeros((len(list_customer), len(list_product)))\n",
    "purchases_matrix.shape"
   ]
  },
  {
   "cell_type": "code",
   "execution_count": 9,
   "metadata": {},
   "outputs": [],
   "source": [
    "# And now we loop over our data to populate this matrix with a 1 wherever a customer bought the corresponding product\n",
    "for i in range(len(product_indices)):\n",
    "    purchases_matrix[customer_indices[i]][product_indices[i]] = 1"
   ]
  },
  {
   "cell_type": "code",
   "execution_count": 10,
   "metadata": {},
   "outputs": [
    {
     "data": {
      "text/html": [
       "<div>\n",
       "<style scoped>\n",
       "    .dataframe tbody tr th:only-of-type {\n",
       "        vertical-align: middle;\n",
       "    }\n",
       "\n",
       "    .dataframe tbody tr th {\n",
       "        vertical-align: top;\n",
       "    }\n",
       "\n",
       "    .dataframe thead th {\n",
       "        text-align: right;\n",
       "    }\n",
       "</style>\n",
       "<table border=\"1\" class=\"dataframe\">\n",
       "  <thead>\n",
       "    <tr style=\"text-align: right;\">\n",
       "      <th></th>\n",
       "      <th>Blue widget</th>\n",
       "      <th>Green widget</th>\n",
       "      <th>Orange widget</th>\n",
       "      <th>Yellow widget</th>\n",
       "    </tr>\n",
       "  </thead>\n",
       "  <tbody>\n",
       "    <tr>\n",
       "      <th>Customer 21</th>\n",
       "      <td>0.0</td>\n",
       "      <td>1.0</td>\n",
       "      <td>0.0</td>\n",
       "      <td>0.0</td>\n",
       "    </tr>\n",
       "    <tr>\n",
       "      <th>Customer 19</th>\n",
       "      <td>0.0</td>\n",
       "      <td>1.0</td>\n",
       "      <td>0.0</td>\n",
       "      <td>0.0</td>\n",
       "    </tr>\n",
       "    <tr>\n",
       "      <th>Customer 31</th>\n",
       "      <td>0.0</td>\n",
       "      <td>0.0</td>\n",
       "      <td>1.0</td>\n",
       "      <td>1.0</td>\n",
       "    </tr>\n",
       "    <tr>\n",
       "      <th>Customer 26</th>\n",
       "      <td>0.0</td>\n",
       "      <td>1.0</td>\n",
       "      <td>0.0</td>\n",
       "      <td>1.0</td>\n",
       "    </tr>\n",
       "    <tr>\n",
       "      <th>Customer 30</th>\n",
       "      <td>0.0</td>\n",
       "      <td>1.0</td>\n",
       "      <td>0.0</td>\n",
       "      <td>1.0</td>\n",
       "    </tr>\n",
       "    <tr>\n",
       "      <th>Customer 7</th>\n",
       "      <td>1.0</td>\n",
       "      <td>0.0</td>\n",
       "      <td>0.0</td>\n",
       "      <td>0.0</td>\n",
       "    </tr>\n",
       "    <tr>\n",
       "      <th>Customer 16</th>\n",
       "      <td>0.0</td>\n",
       "      <td>1.0</td>\n",
       "      <td>1.0</td>\n",
       "      <td>0.0</td>\n",
       "    </tr>\n",
       "    <tr>\n",
       "      <th>Customer 2</th>\n",
       "      <td>1.0</td>\n",
       "      <td>0.0</td>\n",
       "      <td>1.0</td>\n",
       "      <td>0.0</td>\n",
       "    </tr>\n",
       "    <tr>\n",
       "      <th>Customer 22</th>\n",
       "      <td>0.0</td>\n",
       "      <td>1.0</td>\n",
       "      <td>0.0</td>\n",
       "      <td>0.0</td>\n",
       "    </tr>\n",
       "    <tr>\n",
       "      <th>Customer 18</th>\n",
       "      <td>0.0</td>\n",
       "      <td>1.0</td>\n",
       "      <td>0.0</td>\n",
       "      <td>0.0</td>\n",
       "    </tr>\n",
       "  </tbody>\n",
       "</table>\n",
       "</div>"
      ],
      "text/plain": [
       "             Blue widget  Green widget  Orange widget  Yellow widget\n",
       "Customer 21          0.0           1.0            0.0            0.0\n",
       "Customer 19          0.0           1.0            0.0            0.0\n",
       "Customer 31          0.0           0.0            1.0            1.0\n",
       "Customer 26          0.0           1.0            0.0            1.0\n",
       "Customer 30          0.0           1.0            0.0            1.0\n",
       "Customer 7           1.0           0.0            0.0            0.0\n",
       "Customer 16          0.0           1.0            1.0            0.0\n",
       "Customer 2           1.0           0.0            1.0            0.0\n",
       "Customer 22          0.0           1.0            0.0            0.0\n",
       "Customer 18          0.0           1.0            0.0            0.0"
      ]
     },
     "execution_count": 10,
     "metadata": {},
     "output_type": "execute_result"
    }
   ],
   "source": [
    "# Let's put that result back into a df for easy viewing, and further processing\n",
    "purchases_summary = pd.DataFrame(data=purchases_matrix, index=list_customer, columns=list_product)\n",
    "purchases_summary.head(10)"
   ]
  },
  {
   "cell_type": "markdown",
   "metadata": {},
   "source": [
    "#### Step 2\n",
    "Obtain a 4 x 4 matrix, representing the overlaps:"
   ]
  },
  {
   "cell_type": "code",
   "execution_count": 11,
   "metadata": {},
   "outputs": [
    {
     "data": {
      "text/plain": [
       "(4, 4)"
      ]
     },
     "execution_count": 11,
     "metadata": {},
     "output_type": "execute_result"
    }
   ],
   "source": [
    "# Now we're on the way to our finished product, a 4 x 4 matrix of our products and where their overlaps occur\n",
    "# First we're creating an empty matrix to hold our results\n",
    "product_matrix = np.zeros((len(list_product), len(list_product)))\n",
    "product_matrix.shape"
   ]
  },
  {
   "cell_type": "code",
   "execution_count": 12,
   "metadata": {},
   "outputs": [],
   "source": [
    "# And now we loop over our (reduced) dataframe and sum up the overlaps - if processing was still\n",
    "# slow here we could shunt this part in numpy as well, but for my scenario it turned out to be \n",
    "# quick enough to stick with this convenient method\n",
    "for i in range(len(list_product)):\n",
    "    for t in range(len(list_product)):\n",
    "        product_matrix[i][t] = len(purchases_summary[(purchases_summary[list_product[i]] == 1) & \n",
    "                                                     (purchases_summary[list_product[t]] == 1)])"
   ]
  },
  {
   "cell_type": "code",
   "execution_count": 13,
   "metadata": {},
   "outputs": [
    {
     "data": {
      "text/html": [
       "<div>\n",
       "<style scoped>\n",
       "    .dataframe tbody tr th:only-of-type {\n",
       "        vertical-align: middle;\n",
       "    }\n",
       "\n",
       "    .dataframe tbody tr th {\n",
       "        vertical-align: top;\n",
       "    }\n",
       "\n",
       "    .dataframe thead th {\n",
       "        text-align: right;\n",
       "    }\n",
       "</style>\n",
       "<table border=\"1\" class=\"dataframe\">\n",
       "  <thead>\n",
       "    <tr style=\"text-align: right;\">\n",
       "      <th></th>\n",
       "      <th>Blue widget</th>\n",
       "      <th>Green widget</th>\n",
       "      <th>Orange widget</th>\n",
       "      <th>Yellow widget</th>\n",
       "    </tr>\n",
       "  </thead>\n",
       "  <tbody>\n",
       "    <tr>\n",
       "      <th>Blue widget</th>\n",
       "      <td>10.0</td>\n",
       "      <td>3.0</td>\n",
       "      <td>6.0</td>\n",
       "      <td>2.0</td>\n",
       "    </tr>\n",
       "    <tr>\n",
       "      <th>Green widget</th>\n",
       "      <td>3.0</td>\n",
       "      <td>20.0</td>\n",
       "      <td>5.0</td>\n",
       "      <td>12.0</td>\n",
       "    </tr>\n",
       "    <tr>\n",
       "      <th>Orange widget</th>\n",
       "      <td>6.0</td>\n",
       "      <td>5.0</td>\n",
       "      <td>12.0</td>\n",
       "      <td>6.0</td>\n",
       "    </tr>\n",
       "    <tr>\n",
       "      <th>Yellow widget</th>\n",
       "      <td>2.0</td>\n",
       "      <td>12.0</td>\n",
       "      <td>6.0</td>\n",
       "      <td>14.0</td>\n",
       "    </tr>\n",
       "  </tbody>\n",
       "</table>\n",
       "</div>"
      ],
      "text/plain": [
       "               Blue widget  Green widget  Orange widget  Yellow widget\n",
       "Blue widget           10.0           3.0            6.0            2.0\n",
       "Green widget           3.0          20.0            5.0           12.0\n",
       "Orange widget          6.0           5.0           12.0            6.0\n",
       "Yellow widget          2.0          12.0            6.0           14.0"
      ]
     },
     "execution_count": 13,
     "metadata": {},
     "output_type": "execute_result"
    }
   ],
   "source": [
    "# Let's put that result back into a df - we now have the numbers of overlaps across the products!\n",
    "product_summary = pd.DataFrame(data=product_matrix, index=list_product, columns=list_product)\n",
    "product_summary.head()"
   ]
  },
  {
   "cell_type": "code",
   "execution_count": 14,
   "metadata": {},
   "outputs": [
    {
     "data": {
      "text/html": [
       "<div>\n",
       "<style scoped>\n",
       "    .dataframe tbody tr th:only-of-type {\n",
       "        vertical-align: middle;\n",
       "    }\n",
       "\n",
       "    .dataframe tbody tr th {\n",
       "        vertical-align: top;\n",
       "    }\n",
       "\n",
       "    .dataframe thead th {\n",
       "        text-align: right;\n",
       "    }\n",
       "</style>\n",
       "<table border=\"1\" class=\"dataframe\">\n",
       "  <thead>\n",
       "    <tr style=\"text-align: right;\">\n",
       "      <th></th>\n",
       "      <th>Blue widget</th>\n",
       "      <th>Green widget</th>\n",
       "      <th>Orange widget</th>\n",
       "      <th>Yellow widget</th>\n",
       "    </tr>\n",
       "  </thead>\n",
       "  <tbody>\n",
       "    <tr>\n",
       "      <th>Blue widget</th>\n",
       "      <td>100.0</td>\n",
       "      <td>30.0</td>\n",
       "      <td>60.0</td>\n",
       "      <td>20.0</td>\n",
       "    </tr>\n",
       "    <tr>\n",
       "      <th>Green widget</th>\n",
       "      <td>15.0</td>\n",
       "      <td>100.0</td>\n",
       "      <td>25.0</td>\n",
       "      <td>60.0</td>\n",
       "    </tr>\n",
       "    <tr>\n",
       "      <th>Orange widget</th>\n",
       "      <td>50.0</td>\n",
       "      <td>42.0</td>\n",
       "      <td>100.0</td>\n",
       "      <td>50.0</td>\n",
       "    </tr>\n",
       "    <tr>\n",
       "      <th>Yellow widget</th>\n",
       "      <td>14.0</td>\n",
       "      <td>86.0</td>\n",
       "      <td>43.0</td>\n",
       "      <td>100.0</td>\n",
       "    </tr>\n",
       "  </tbody>\n",
       "</table>\n",
       "</div>"
      ],
      "text/plain": [
       "               Blue widget  Green widget  Orange widget  Yellow widget\n",
       "Blue widget          100.0          30.0           60.0           20.0\n",
       "Green widget          15.0         100.0           25.0           60.0\n",
       "Orange widget         50.0          42.0          100.0           50.0\n",
       "Yellow widget         14.0          86.0           43.0          100.0"
      ]
     },
     "execution_count": 14,
     "metadata": {},
     "output_type": "execute_result"
    }
   ],
   "source": [
    "# Let's do the same again, but this time we'll get percentages\n",
    "product_matrix_percentages = np.zeros((len(list_product), len(list_product)))\n",
    "product_matrix_percentages.shape\n",
    "\n",
    "for i in range(len(list_product)):\n",
    "    for t in range(len(list_product)):\n",
    "        product_matrix_percentages[i][t] = int(round(len(purchases_summary[(purchases_summary[list_product[i]] == 1) & \n",
    "                                                                 (purchases_summary[list_product[t]] == 1)]) / \n",
    "                                           len(purchases_summary[(purchases_summary[list_product[i]] == 1)]) * 100, 0))\n",
    "\n",
    "product_percentages = pd.DataFrame(data=product_matrix_percentages, index=list_product, columns=list_product)\n",
    "product_percentages.head()"
   ]
  },
  {
   "cell_type": "markdown",
   "metadata": {},
   "source": [
    "### Visualization\n",
    "This is the easy bit, once we have our data in the format required!\n",
    "There are some handy parameters with sns.heatmap() as follows:\n",
    "- `annot = True`: labels the blocks with the data provided\n",
    "- `annot = some_other_like_sized_array`: labels the blocks with the data from specified array\n",
    "- `fmt = 'g'`: used to make sure our numbers are displayed as integers\n",
    "- `vmax = 75`: anything above 75 will be coloured in our 100% colour, you have to experiment with this number to see what works best visually\n",
    "- `ax.xaxis.tick_top()`: puts the x-axis labels at the top which will be more intuitive for most business readers\n",
    "- `ax.set_xticklabels(labels = list_product, rotation=90)`: may come in useful for longer product names, rotates them sideways so they don't overlap each other"
   ]
  },
  {
   "cell_type": "code",
   "execution_count": 15,
   "metadata": {},
   "outputs": [
    {
     "data": {
      "image/png": "[encoded data removed]",
      "text/plain": [
       "<Figure size 864x864 with 2 Axes>"
      ]
     },
     "metadata": {
      "needs_background": "light"
     },
     "output_type": "display_data"
    }
   ],
   "source": [
    "# Here we have the visualization by %\n",
    "fig, ax = plt.subplots(figsize=(12, 12))\n",
    "ax = sns.heatmap(product_percentages, vmax = 75, square = True, annot=True, fmt='g')\n",
    "ax.xaxis.tick_top()\n",
    "plt.title('Product customer overlaps %')\n",
    "plt.show()"
   ]
  },
  {
   "cell_type": "code",
   "execution_count": 16,
   "metadata": {},
   "outputs": [
    {
     "data": {
      "image/png": "[encoded data removed]",
      "text/plain": [
       "<Figure size 864x864 with 2 Axes>"
      ]
     },
     "metadata": {
      "needs_background": "light"
     },
     "output_type": "display_data"
    }
   ],
   "source": [
    "# And here we have the visualization by % again BUT using the annot parameter I'm overlaying\n",
    "# the actual counts from product_summary: the end-result is the colours align to our original \n",
    "# percentage visualization above, but we can see the detail\n",
    "fig, ax = plt.subplots(figsize=(12, 12))\n",
    "ax = sns.heatmap(product_percentages, vmax = 75, square = True, annot=product_summary, fmt='g')\n",
    "ax.xaxis.tick_top()\n",
    "plt.title('Product customer overlaps numbers')\n",
    "plt.show()"
   ]
  }
 ],
 "metadata": {
  "kernelspec": {
   "display_name": "Python 3",
   "language": "python",
   "name": "python3"
  },
  "language_info": {
   "codemirror_mode": {
    "name": "ipython",
    "version": 3
   },
   "file_extension": ".py",
   "mimetype": "text/x-python",
   "name": "python",
   "nbconvert_exporter": "python",
   "pygments_lexer": "ipython3",
   "version": "3.7.3"
  }
 },
 "nbformat": 4,
 "nbformat_minor": 2
}
