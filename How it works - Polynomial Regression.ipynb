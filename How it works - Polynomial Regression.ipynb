{
 "cells": [
  {
   "cell_type": "code",
   "execution_count": 1,
   "metadata": {},
   "outputs": [],
   "source": [
    "import numpy as np\n",
    "import numpy.polynomial.polynomial as poly\n",
    "# the above is really for notational convenience:\n",
    "# poly.xyz() will be the same as np.polynomial.polynomial.xyz() but much quicker to write and read!\n",
    "from matplotlib import pyplot as plt\n",
    "%matplotlib inline"
   ]
  },
  {
   "cell_type": "markdown",
   "metadata": {},
   "source": [
    "## The basics\n",
    "Let's look at a simple example: we have 9 digits on the x axis and a polynomial y = 4x^2 + 4x + 3, so we have the following values for x and y:"
   ]
  },
  {
   "cell_type": "code",
   "execution_count": 2,
   "metadata": {},
   "outputs": [
    {
     "name": "stdout",
     "output_type": "stream",
     "text": [
      "[1 2 3 4 5 6 7 8 9] [ 11  27  51  83 123 171 227 291 363]\n"
     ]
    }
   ],
   "source": [
    "x = np.array([1, 2, 3, 4, 5, 6, 7, 8, 9])\n",
    "y = 4*x**2 + 4*x + 3\n",
    "print(x, y)"
   ]
  },
  {
   "cell_type": "code",
   "execution_count": 3,
   "metadata": {},
   "outputs": [
    {
     "data": {
      "text/plain": [
       "<matplotlib.collections.PathCollection at 0x113f8d908>"
      ]
     },
     "execution_count": 3,
     "metadata": {},
     "output_type": "execute_result"
    },
    {
     "data": {
      "image/png": "[encoded data removed]",
      "text/plain": [
       "<matplotlib.figure.Figure at 0x111ccc898>"
      ]
     },
     "metadata": {},
     "output_type": "display_data"
    }
   ],
   "source": [
    "plt.scatter(x,y)"
   ]
  },
  {
   "cell_type": "markdown",
   "metadata": {},
   "source": [
    "The function <b>np.polynomial.polynomial.polyfit()</b> finds the best co-efficients that will fit this data and returns them in <i>ascending order</>, i.e. intercept, x, x^2, x^3, etc. In our case, since we have pre-constructed the example it returns exactly the co-efficients we are expecting so we can see how it's working under the hood!"
   ]
  },
  {
   "cell_type": "code",
   "execution_count": 4,
   "metadata": {},
   "outputs": [
    {
     "name": "stdout",
     "output_type": "stream",
     "text": [
      "[ 3.  4.  4.]\n"
     ]
    }
   ],
   "source": [
    "coefs = poly.polyfit(x, y, 2)\n",
    "print(coefs)"
   ]
  },
  {
   "cell_type": "markdown",
   "metadata": {},
   "source": [
    "The function np.polynomial.polynomial.polyval() takes 2 arguments in order to return the corresponding y values - values for x and the array of values returned by polyfit():"
   ]
  },
  {
   "cell_type": "code",
   "execution_count": 5,
   "metadata": {},
   "outputs": [
    {
     "data": {
      "text/plain": [
       "array([  11.,   27.,   51.,   83.,  123.,  171.,  227.,  291.,  363.])"
      ]
     },
     "execution_count": 5,
     "metadata": {},
     "output_type": "execute_result"
    }
   ],
   "source": [
    "poly.polyval(x, coefs)"
   ]
  },
  {
   "cell_type": "markdown",
   "metadata": {},
   "source": [
    "We can then visualize how closely the suggested fit line matches the original data:"
   ]
  },
  {
   "cell_type": "code",
   "execution_count": 6,
   "metadata": {},
   "outputs": [
    {
     "data": {
      "text/plain": [
       "[<matplotlib.lines.Line2D at 0x113f464a8>]"
      ]
     },
     "execution_count": 6,
     "metadata": {},
     "output_type": "execute_result"
    },
    {
     "data": {
      "image/png": "[encoded data removed]",
      "text/plain": [
       "<matplotlib.figure.Figure at 0x113f46f60>"
      ]
     },
     "metadata": {},
     "output_type": "display_data"
    }
   ],
   "source": [
    "# Note that we use np.linspace() to generate general x values, evenly spaced\n",
    "# In this example it amounts to the same thing, but normally it wouldn't of course!\n",
    "new_x = np.linspace(1, 10, 9)\n",
    "new_y = poly.polyval(new_x, coefs)\n",
    "plt.scatter(x,y)\n",
    "plt.plot(new_x, new_y, c = \"r\")"
   ]
  },
  {
   "cell_type": "code",
   "execution_count": 7,
   "metadata": {},
   "outputs": [
    {
     "name": "stdout",
     "output_type": "stream",
     "text": [
      "[  3.00000000e+00   4.00000000e+00   4.00000000e+00  -4.10057513e-15\n",
      "   1.89553259e-16]\n"
     ]
    }
   ],
   "source": [
    "# btw, what happens if we pick too many terms, e.g. instead of the original 2 we picked 4?\n",
    "coefs = poly.polyfit(x, y, 4)\n",
    "print(coefs)"
   ]
  },
  {
   "cell_type": "code",
   "execution_count": 8,
   "metadata": {},
   "outputs": [],
   "source": [
    "# Notice that the co-efficients for x^4 and x^3 are sooo small \n",
    "# that they are going to basically reduce their effect as terms to negligible\n",
    "# -4.10E-15 = -0.0000000000000041005751300\n",
    "# 1.90E-16 = 0.0000000000000001895532590"
   ]
  },
  {
   "cell_type": "markdown",
   "metadata": {},
   "source": [
    "## Using 'real' data"
   ]
  },
  {
   "cell_type": "code",
   "execution_count": 9,
   "metadata": {},
   "outputs": [
    {
     "data": {
      "text/plain": [
       "<matplotlib.collections.PathCollection at 0x11cfa9400>"
      ]
     },
     "execution_count": 9,
     "metadata": {},
     "output_type": "execute_result"
    },
    {
     "data": {
      "image/png": "[encoded data removed]",
      "text/plain": [
       "<matplotlib.figure.Figure at 0x113ffa128>"
      ]
     },
     "metadata": {},
     "output_type": "display_data"
    }
   ],
   "source": [
    "# Here we are just getting some random data to work with for the purposes of illustration\n",
    "np.random.seed(5)\n",
    "x = np.random.normal(5.0, 1.0, 1000)\n",
    "y = np.random.normal(90.0, 10.0, 1000) / x\n",
    "plt.scatter(x, y)"
   ]
  },
  {
   "cell_type": "code",
   "execution_count": 10,
   "metadata": {},
   "outputs": [
    {
     "name": "stdout",
     "output_type": "stream",
     "text": [
      "[ 39.10294365  -4.06486654]\n"
     ]
    }
   ],
   "source": [
    "# Let's start with one x term only (essentially linear regression)\n",
    "coefs = poly.polyfit(x, y, 1)\n",
    "print(coefs)"
   ]
  },
  {
   "cell_type": "code",
   "execution_count": 11,
   "metadata": {},
   "outputs": [
    {
     "name": "stdout",
     "output_type": "stream",
     "text": [
      "39.102943645 -4.06486653659\n"
     ]
    }
   ],
   "source": [
    "# We can actually see that the result is just like using stats.linregress():\n",
    "from scipy import stats\n",
    "slope, intercept, r_value, p_value, std_err = stats.linregress(x, y)\n",
    "print(intercept, slope)"
   ]
  },
  {
   "cell_type": "code",
   "execution_count": 12,
   "metadata": {},
   "outputs": [
    {
     "data": {
      "text/plain": [
       "[<matplotlib.lines.Line2D at 0x191e8a6358>]"
      ]
     },
     "execution_count": 12,
     "metadata": {},
     "output_type": "execute_result"
    },
    {
     "data": {
      "image/png": "[encoded data removed]",
      "text/plain": [
       "<matplotlib.figure.Figure at 0x191e89a048>"
      ]
     },
     "metadata": {},
     "output_type": "display_data"
    }
   ],
   "source": [
    "# Clearly not a good fit!\n",
    "new_x = np.linspace(0, 10, 1000)\n",
    "new_y = poly.polyval(new_x, coefs)\n",
    "plt.scatter(x,y)\n",
    "plt.plot(new_x, new_y, c = \"r\")"
   ]
  },
  {
   "cell_type": "code",
   "execution_count": 13,
   "metadata": {},
   "outputs": [
    {
     "name": "stdout",
     "output_type": "stream",
     "text": [
      "[ 62.6445633  -13.79259683   0.96606278]\n"
     ]
    }
   ],
   "source": [
    "# So let's bump it up to 2 x terms and see what happens...\n",
    "coefs = poly.polyfit(x, y, 2)\n",
    "print(coefs)"
   ]
  },
  {
   "cell_type": "code",
   "execution_count": 14,
   "metadata": {},
   "outputs": [
    {
     "data": {
      "text/plain": [
       "[<matplotlib.lines.Line2D at 0x1a1ea10f28>]"
      ]
     },
     "execution_count": 14,
     "metadata": {},
     "output_type": "execute_result"
    },
    {
     "data": {
      "image/png": "[encoded data removed]",
      "text/plain": [
       "<matplotlib.figure.Figure at 0x1a1ea10860>"
      ]
     },
     "metadata": {},
     "output_type": "display_data"
    }
   ],
   "source": [
    "# Looks better!\n",
    "new_x = np.linspace(0, 10, 1000)\n",
    "new_y = poly.polyval(new_x, coefs)\n",
    "plt.scatter(x,y)\n",
    "plt.plot(new_x, new_y, c = \"r\")"
   ]
  },
  {
   "cell_type": "code",
   "execution_count": 15,
   "metadata": {},
   "outputs": [
    {
     "name": "stdout",
     "output_type": "stream",
     "text": [
      "[ 89.35580219 -31.12792172   4.54058811  -0.23551848]\n"
     ]
    }
   ],
   "source": [
    "# What about 3 terms?\n",
    "coefs = poly.polyfit(x, y, 3)\n",
    "print(coefs)"
   ]
  },
  {
   "cell_type": "code",
   "execution_count": 16,
   "metadata": {},
   "outputs": [
    {
     "data": {
      "text/plain": [
       "[<matplotlib.lines.Line2D at 0x1a1ea39cc0>]"
      ]
     },
     "execution_count": 16,
     "metadata": {},
     "output_type": "execute_result"
    },
    {
     "data": {
      "image/png": "[encoded data removed]",
      "text/plain": [
       "<matplotlib.figure.Figure at 0x1a1ea39b70>"
      ]
     },
     "metadata": {},
     "output_type": "display_data"
    }
   ],
   "source": [
    "# Interesting, instead of curving up for high values, it now curves down... that may or may not be appropriate\n",
    "new_x = np.linspace(0, 10, 1000)\n",
    "new_y = poly.polyval(new_x, coefs)\n",
    "plt.scatter(x,y)\n",
    "plt.plot(new_x, new_y, c = \"r\")"
   ]
  }
 ],
 "metadata": {
  "kernelspec": {
   "display_name": "Python 3",
   "language": "python",
   "name": "python3"
  },
  "language_info": {
   "codemirror_mode": {
    "name": "ipython",
    "version": 3
   },
   "file_extension": ".py",
   "mimetype": "text/x-python",
   "name": "python",
   "nbconvert_exporter": "python",
   "pygments_lexer": "ipython3",
   "version": "3.6.3"
  }
 },
 "nbformat": 4,
 "nbformat_minor": 2
}
